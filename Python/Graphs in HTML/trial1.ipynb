{
 "cells": [
  {
   "cell_type": "code",
   "execution_count": null,
   "metadata": {},
   "outputs": [],
   "source": [
    "import plotly\n",
    "import plotly.graph_objs as go\n",
    "from plotly.subplots import make_subplots\n",
    "import plotly.express as px\n",
    "from dash import Dash, dcc, html\n",
    "import pandas as pd\n",
    "from dash.dependencies import Input, Output \n",
    "import dash"
   ]
  },
  {
   "cell_type": "code",
   "execution_count": null,
   "metadata": {},
   "outputs": [],
   "source": [
    "df = pd.read_csv(\"IBM_HR.csv\")\n",
    "df.tail()"
   ]
  },
  {
   "cell_type": "code",
   "execution_count": null,
   "metadata": {},
   "outputs": [],
   "source": [
    "data = [go.Bar(x=df['Age'],y=df['TotalWorkingYears'])]\n",
    "layout = go.Layout(xaxis=dict(title='Age'),yaxis=dict(title='Total Working Years'))\n",
    "fig = go.Figure(data,layout=layout)\n",
    "# fig.show()"
   ]
  },
  {
   "cell_type": "code",
   "execution_count": null,
   "metadata": {},
   "outputs": [],
   "source": [
    "# plotly.offline.plot(fig,filename='trial1GraphsinHTMl.html',config = {'displayModeBar':False})"
   ]
  },
  {
   "cell_type": "code",
   "execution_count": null,
   "metadata": {},
   "outputs": [],
   "source": [
    "fig1 = make_subplots(rows=2,cols=2, specs=[[{\"type\": \"bar\"}, {\"type\": \"pie\"}],[{'type':'histogram'},{'type':'bar'}]],subplot_titles=(\"Plot 1\", \"Plot 2\", \"Plot 3\", \"Plot 4\"))\n",
    "\n",
    "fig1.add_trace(go.Bar(x=df['Age'],y=df['TotalWorkingYears']),row=1,col=1)\n",
    "fig1.add_trace(go.Pie(labels = df['EducationField'],values=df['DailyRate']),row=1,col=2)\n",
    "fig1.add_trace(go.Histogram(x=df['YearsSinceLastPromotion'],y=df['DailyRate']),row=2,col=1)\n",
    "fig1.add_trace(go.Bar(x=df['HourlyRate'],y=df['TotalWorkingYears']),row=2,col=2)\n",
    "\n",
    "fig1.update_xaxes(title_text=\"Age of Employee\", row=1, col=1)\n",
    "fig1.update_xaxes(title_text=\"Field of Education\", row=1, col=2)\n",
    "fig1.update_xaxes(title_text=\"Years since last promotion\", showgrid=False, row=2, col=1)\n",
    "fig1.update_xaxes(title_text=\"Hourly Rate\", row=2, col=2)\n",
    "\n",
    "\n",
    "fig1.update_yaxes(title_text=\"Total Working Hours\", row=1, col=1)\n",
    "fig1.update_yaxes(title_text=\"Daily Rate\", row=1, col=2)\n",
    "fig1.update_yaxes(title_text=\"Daily Rate\", showgrid=False, row=2, col=1)\n",
    "fig1.update_yaxes(title_text=\"Total Working Hours\", row=2, col=2)\n",
    "\n",
    "# fig1.show()"
   ]
  },
  {
   "cell_type": "code",
   "execution_count": null,
   "metadata": {},
   "outputs": [],
   "source": [
    "# plotly.offline.plot(fig1,filename='trial2GraphsinHTMl.html',config = {'displayModeBar':False})"
   ]
  },
  {
   "cell_type": "code",
   "execution_count": null,
   "metadata": {},
   "outputs": [],
   "source": [
    "# df.info()"
   ]
  },
  {
   "cell_type": "code",
   "execution_count": null,
   "metadata": {},
   "outputs": [],
   "source": [
    "tempFig = px.line_3d(df,x='Age',y='TotalWorkingYears',z='MonthlyIncome', color = 'JobSatisfaction',title='Age vs Total Working Hours vs Monthly Income',template='plotly_dark')\n",
    "\n",
    "# tempFig = px.pie(df, values='Age', names='EducationField', title='Daily Rate vs Education Field', width=800,height=800)\n",
    "# tempFig.show()\n",
    "\n",
    "# options = [{'label':i,'value':i} for i in df.select_dtypes(include=['int64']).columns]\n",
    "# options"
   ]
  },
  {
   "cell_type": "code",
   "execution_count": null,
   "metadata": {},
   "outputs": [],
   "source": [
    "app = dash.Dash()"
   ]
  },
  {
   "cell_type": "code",
   "execution_count": null,
   "metadata": {},
   "outputs": [],
   "source": [
    "app.layout = html.H1(children=[\n",
    "    html.P(\n",
    "        id=\"parent\",\n",
    "        children = [html.P(id=\"IBM_HR\", children='IBM HR Attrition Analysis', style={'textAlign':'center','backgroundColor':'beige','color':'Blue'}),\n",
    "        dcc.Dropdown(id=\"dropdown\",\n",
    "        options = [{'label':i,'value':i} for i in df.select_dtypes(include=['int64']).columns],\n",
    "        value=['DailyRate','MonthlyIncome'],\n",
    "        multi=True), \n",
    "        dcc.Graph(id=\"graph\"),]),\n",
    "    html.Div([\n",
    "        html.P(children='Age vs Total Working Hours vs Monthly Income',style={'textAlign':'center','backgroundColor':'beige','color':'Green'}),\n",
    "        dcc.Graph(id='graph2',figure=tempFig)\n",
    "        ]\n",
    "    ),\n",
    "    html.Div([\n",
    "        html.P(children='4 Subplots 🥱',style={'textAlign':'center','color':'Red'}),\n",
    "        dcc.Graph(id='graph3',figure=fig1)\n",
    "    ]\n",
    "    )\n",
    "], style={'backgroundColor':'White'})"
   ]
  },
  {
   "cell_type": "code",
   "execution_count": null,
   "metadata": {},
   "outputs": [],
   "source": [
    "@app.callback(Output(\"graph\", \"figure\"), [Input(\"dropdown\", \"value\")])\n",
    "# def update_graph(dropdown):\n",
    "#     fig = px.histogram(df, x=dropdown, color=\"Attrition\", title=f\"Attrition vs {dropdown}\")\n",
    "#     return fig\n",
    "\n",
    "# def update_graph(dropdown):\n",
    "#     print(dropdown)\n",
    "#     fig = go.Figure([go.Scatter(x=df['Age'],y=df['{}'.format(dropdown)],line=dict(color='firebrick'), mode='lines+markers', name='{}'.format(dropdown))])\n",
    "#     fig.update_layout(title=f\"Attrition vs {dropdown}\", xaxis_title=\"Age\", yaxis_title=\"{}\".format(dropdown))\n",
    "#     return fig\n",
    "\n",
    "# def update_graph(dropdown):\n",
    "#     print(dropdown)\n",
    "#     # fig = go.Figure([go.Bar(x=df['Age'],y=df['{}'.format(dropdown)])])\n",
    "#     fig = px.line_3d(df,x=df['Age'],y=df['{}'.format(dropdown)],z=df['TotalWorkingYears'],color=df['JobSatisfaction'],title=f\"Attrition vs {dropdown}\")\n",
    "#     return fig\n",
    "\n",
    "# def update_graph(dropdown):\n",
    "#     print(dropdown)\n",
    "#     fig = px.bar(df, x=df['Age'], y=df['{}'.format(dropdown)], color=df['Attrition'], title=f\"Attrition vs {dropdown}\")\n",
    "#     return fig\n",
    "\n",
    "def update_graph(dropdown):\n",
    "    print(dropdown)\n",
    "    fig = px.scatter_matrix(df, dimensions=dropdown, color=\"Attrition\", title=f\"Attrition analysis using {dropdown}\",template='plotly_dark')\n",
    "    return fig"
   ]
  },
  {
   "cell_type": "code",
   "execution_count": null,
   "metadata": {},
   "outputs": [],
   "source": [
    "if __name__=='__main__':\n",
    "    app.run_server(port=8030)"
   ]
  }
 ],
 "metadata": {
  "kernelspec": {
   "display_name": "Python 3",
   "language": "python",
   "name": "python3"
  },
  "language_info": {
   "codemirror_mode": {
    "name": "ipython",
    "version": 3
   },
   "file_extension": ".py",
   "mimetype": "text/x-python",
   "name": "python",
   "nbconvert_exporter": "python",
   "pygments_lexer": "ipython3",
   "version": "3.11.1"
  },
  "orig_nbformat": 4,
  "vscode": {
   "interpreter": {
    "hash": "aee8b7b246df8f9039afb4144a1f6fd8d2ca17a180786b69acc140d282b71a49"
   }
  }
 },
 "nbformat": 4,
 "nbformat_minor": 2
}
