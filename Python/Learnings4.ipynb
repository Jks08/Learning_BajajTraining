{
 "cells": [
  {
   "cell_type": "code",
   "execution_count": null,
   "metadata": {},
   "outputs": [],
   "source": [
    "f = open('/Users/jishnusrivastava/Documents/PostgresqlLearnings/PostgresqlLearninigs_BajajTraining/Python/sampleFile.txt', 'r')\n",
    "fileContent = f.read()\n",
    "f.close()"
   ]
  },
  {
   "cell_type": "code",
   "execution_count": null,
   "metadata": {},
   "outputs": [],
   "source": [
    "#Sol 1\n",
    "\n",
    "wordList = fileContent.lower().split()\n",
    "\n",
    "wordListSet = list(wordList)\n",
    "\n",
    "wordDict = {}\n",
    "\n",
    "for word in wordListSet:\n",
    "    c = wordListSet.count(word)\n",
    "    if c in wordDict:\n",
    "        wordDict[c].append(word)\n",
    "    else:\n",
    "        wordDict[c] = [word]\n",
    "\n",
    "wordDict = dict(sorted(wordDict.items(), reverse = False))\n",
    "\n",
    "for i, j in wordDict.items():\n",
    "    print(f\"Key is {i} & Values are: {j}\", end = \" \")\n",
    "    print()"
   ]
  },
  {
   "cell_type": "code",
   "execution_count": null,
   "metadata": {},
   "outputs": [],
   "source": [
    "# Sol 2\n",
    "\n",
    "dict2 = {}\n",
    "for i in wordList:\n",
    "    c1 = wordList.count(i)\n",
    "    s = dict2.setdefault(c1, set())\n",
    "    s.add(i)\n",
    "print(dict2)"
   ]
  },
  {
   "cell_type": "code",
   "execution_count": null,
   "metadata": {},
   "outputs": [],
   "source": [
    "def func1(li):\n",
    "    li2 = li.copy()\n",
    "    li2.append(10000)\n",
    "    print(li2)\n",
    "    return li2\n",
    "\n",
    "# How do we not modify lis1? We can use copy() method.\n",
    "\n",
    "\n",
    "li1 = [1,2,3]\n",
    "li3 = func1(li1)\n",
    "print(li1)\n",
    "print(li3)"
   ]
  },
  {
   "cell_type": "code",
   "execution_count": null,
   "metadata": {},
   "outputs": [],
   "source": [
    "import copy\n",
    "def func2(li):\n",
    "    li2 = li\n",
    "    li2[-1].append('D')\n",
    "    print('Inside func2')\n",
    "    print(li2)\n",
    "    return li2\n",
    "li1 = [[1,2,3], ['A','B']]\n",
    "li3 = func2(copy.deepcopy(li1))\n",
    "print(li1)\n",
    "print(li3)\n"
   ]
  },
  {
   "cell_type": "code",
   "execution_count": null,
   "metadata": {},
   "outputs": [],
   "source": [
    "li1 = [1,2,3,4]\n",
    "li2 = li1\n",
    "li3 = li2[:]\n",
    "\n",
    "print(li1==li2) # True\n",
    "print(li1 is li2) # True\n",
    "print(li3==li1) # True\n",
    "print(li3==li2) # True\n",
    "print(li3 is li2) # False\n",
    "print(li3 is li1) # False\n",
    "\n",
    "# Why are last 2 False? Because li3 is a new object. It is not the same object as li1 or li2. li3 is a copy of. So, it is not the same object as li1. So, it is False. "
   ]
  },
  {
   "cell_type": "code",
   "execution_count": null,
   "metadata": {},
   "outputs": [],
   "source": [
    "Also, regarding the folder and sorting by file size question:\n",
    "\n",
    "# Read a folder\n",
    "# Sort the files in the folder by size\n",
    "\n",
    "import os\n",
    "import glob\n",
    "import operator\n",
    "\n",
    "def sortFilesBySize(folderPath):\n",
    "    files = glob.glob(folderPath + '/*')\n",
    "    files.sort(key=os.path.getsize)\n",
    "    for i in files:\n",
    "        print(f\"File Name: {i}, File Size: {os.path.getsize(i)}\")\n",
    "\n",
    "sortFilesBySize('/Users/jishnusrivastava/Documents/PostgresqlLearnings/PostgresqlLearninigs_BajajTraining/Python')"
   ]
  },
  {
   "cell_type": "code",
   "execution_count": 43,
   "metadata": {},
   "outputs": [
    {
     "name": "stdout",
     "output_type": "stream",
     "text": [
      "['C', 'C++', 'Java', 'Python']\n"
     ]
    }
   ],
   "source": [
    "pro_lan = ['Python','C','Java','C++']\n",
    "pro_lan.sort(key = len)\n",
    "print(pro_lan)"
   ]
  },
  {
   "cell_type": "code",
   "execution_count": 44,
   "metadata": {},
   "outputs": [
    {
     "name": "stdout",
     "output_type": "stream",
     "text": [
      "[(1, 0, 9), (1, 2, 5), (4, 3, 6), (2, 5, 7)]\n"
     ]
    }
   ],
   "source": [
    "li = [(1,2,5),(4,3,6),(2,5,7),(1,0,9)]\n",
    "li.sort(key = lambda x: x[1])\n",
    "print(li)"
   ]
  }
 ],
 "metadata": {
  "kernelspec": {
   "display_name": "Python 3",
   "language": "python",
   "name": "python3"
  },
  "language_info": {
   "codemirror_mode": {
    "name": "ipython",
    "version": 3
   },
   "file_extension": ".py",
   "mimetype": "text/x-python",
   "name": "python",
   "nbconvert_exporter": "python",
   "pygments_lexer": "ipython3",
   "version": "3.11.1"
  },
  "orig_nbformat": 4,
  "vscode": {
   "interpreter": {
    "hash": "aee8b7b246df8f9039afb4144a1f6fd8d2ca17a180786b69acc140d282b71a49"
   }
  }
 },
 "nbformat": 4,
 "nbformat_minor": 2
}
