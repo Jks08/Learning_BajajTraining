{
 "cells": [
  {
   "cell_type": "code",
   "execution_count": null,
   "metadata": {},
   "outputs": [],
   "source": [
    "f = open('/Users/jishnusrivastava/Documents/PostgresqlLearnings/PostgresqlLearninigs_BajajTraining/Python/sampleFile.txt', 'r')\n",
    "fileContent = f.read()\n",
    "f.close()"
   ]
  },
  {
   "cell_type": "code",
   "execution_count": null,
   "metadata": {},
   "outputs": [],
   "source": [
    "#Sol 1\n",
    "\n",
    "wordList = fileContent.lower().split()\n",
    "\n",
    "wordListSet = list(wordList)\n",
    "\n",
    "wordDict = {}\n",
    "\n",
    "for word in wordListSet:\n",
    "    c = wordListSet.count(word)\n",
    "    if c in wordDict:\n",
    "        wordDict[c].append(word)\n",
    "    else:\n",
    "        wordDict[c] = [word]\n",
    "\n",
    "wordDict = dict(sorted(wordDict.items(), reverse = False))\n",
    "\n",
    "for i, j in wordDict.items():\n",
    "    print(f\"Key is {i} & Values are: {j}\", end = \" \")\n",
    "    print()"
   ]
  }
 ],
 "metadata": {
  "kernelspec": {
   "display_name": "Python 3",
   "language": "python",
   "name": "python3"
  },
  "language_info": {
   "codemirror_mode": {
    "name": "ipython",
    "version": 3
   },
   "file_extension": ".py",
   "mimetype": "text/x-python",
   "name": "python",
   "nbconvert_exporter": "python",
   "pygments_lexer": "ipython3",
   "version": "3.11.1"
  },
  "orig_nbformat": 4,
  "vscode": {
   "interpreter": {
    "hash": "aee8b7b246df8f9039afb4144a1f6fd8d2ca17a180786b69acc140d282b71a49"
   }
  }
 },
 "nbformat": 4,
 "nbformat_minor": 2
}
