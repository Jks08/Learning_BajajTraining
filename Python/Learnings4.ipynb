{
 "cells": [
  {
   "cell_type": "code",
   "execution_count": null,
   "metadata": {},
   "outputs": [],
   "source": [
    "f = open('/Users/jishnusrivastava/Documents/PostgresqlLearnings/PostgresqlLearninigs_BajajTraining/Python/sampleFile.txt', 'r')\n",
    "fileContent = f.read()\n",
    "f.close()"
   ]
  },
  {
   "cell_type": "code",
   "execution_count": null,
   "metadata": {},
   "outputs": [],
   "source": [
    "#Sol 1\n",
    "\n",
    "wordList = fileContent.lower().split()\n",
    "\n",
    "wordListSet = list(wordList)\n",
    "\n",
    "wordDict = {}\n",
    "\n",
    "for word in wordListSet:\n",
    "    c = wordListSet.count(word)\n",
    "    if c in wordDict:\n",
    "        wordDict[c].append(word)\n",
    "    else:\n",
    "        wordDict[c] = [word]\n",
    "\n",
    "wordDict = dict(sorted(wordDict.items(), reverse = False))\n",
    "\n",
    "for i, j in wordDict.items():\n",
    "    print(f\"Key is {i} & Values are: {j}\", end = \" \")\n",
    "    print()"
   ]
  },
  {
   "cell_type": "code",
   "execution_count": null,
   "metadata": {},
   "outputs": [],
   "source": [
    "# Sol 2\n",
    "\n",
    "dict2 = {}\n",
    "for i in wordList:\n",
    "    c1 = wordList.count(i)\n",
    "    s = dict2.setdefault(c1, set())\n",
    "    s.add(i)\n",
    "print(dict2)"
   ]
  },
  {
   "cell_type": "code",
   "execution_count": null,
   "metadata": {},
   "outputs": [],
   "source": [
    "def func1(li):\n",
    "    li2 = li.copy()\n",
    "    li2.append(10000)\n",
    "    print(li2)\n",
    "    return li2\n",
    "\n",
    "# How do we not modify lis1? We can use copy() method.\n",
    "\n",
    "\n",
    "li1 = [1,2,3]\n",
    "li3 = func1(li1)\n",
    "print(li1)\n",
    "print(li3)"
   ]
  },
  {
   "cell_type": "code",
   "execution_count": null,
   "metadata": {},
   "outputs": [],
   "source": [
    "import copy\n",
    "def func2(li):\n",
    "    li2 = li\n",
    "    li2[-1].append('D')\n",
    "    print('Inside func2')\n",
    "    print(li2)\n",
    "    return li2\n",
    "li1 = [[1,2,3], ['A','B']]\n",
    "li3 = func2(copy.deepcopy(li1))\n",
    "print(li1)\n",
    "print(li3)\n"
   ]
  },
  {
   "cell_type": "code",
   "execution_count": null,
   "metadata": {},
   "outputs": [],
   "source": [
    "li1 = [1,2,3,4]\n",
    "li2 = li1\n",
    "li3 = li2[:]\n",
    "\n",
    "print(li1==li2) # True\n",
    "print(li1 is li2) # True\n",
    "print(li3==li1) # True\n",
    "print(li3==li2) # True\n",
    "print(li3 is li2) # False\n",
    "print(li3 is li1) # False\n",
    "\n",
    "# Why are last 2 False? Because li3 is a new object. It is not the same object as li1 or li2. li3 is a copy of. So, it is not the same object as li1. So, it is False. "
   ]
  },
  {
   "cell_type": "code",
   "execution_count": null,
   "metadata": {},
   "outputs": [],
   "source": [
    "# Read a folder\n",
    "# Sort the files in the folder by size\n",
    "\n",
    "import os\n",
    "import glob\n",
    "\n",
    "def sortFilesBySize(folderPath):\n",
    "    files = glob.glob(folderPath + '/*')\n",
    "    files.sort(key=os.path.getsize)\n",
    "    for i in files:\n",
    "        print(f\"File Name: {i}, File Size: {os.path.getsize(i)}\")\n",
    "\n",
    "sortFilesBySize('/Users/jishnusrivastava/Documents/PostgresqlLearnings/PostgresqlLearninigs_BajajTraining/Python')\n",
    "\n",
    "\n",
    "# Another way to sort files by size:\n",
    "'''\n",
    "path = os.getcwd()\n",
    "filenames = os.listdir(path)\n",
    "filenames.sort(key=lambda x:os.path.getsize(path + '/' + x))\n",
    "print('\\n'.join(filenames))\n",
    "'''"
   ]
  },
  {
   "cell_type": "code",
   "execution_count": null,
   "metadata": {},
   "outputs": [],
   "source": [
    "pro_lan = ['Python','C','Java','C++']\n",
    "pro_lan.sort(key = len)\n",
    "print(pro_lan)"
   ]
  },
  {
   "cell_type": "code",
   "execution_count": null,
   "metadata": {},
   "outputs": [],
   "source": [
    "li = [(1,2,5),(4,3,6),(2,5,7),(1,0,9)]\n",
    "li.sort(key = lambda x: x[1])\n",
    "print(li)"
   ]
  },
  {
   "cell_type": "code",
   "execution_count": 5,
   "metadata": {},
   "outputs": [
    {
     "name": "stdout",
     "output_type": "stream",
     "text": [
      "[('Python', 'is', 'easy'), ('Python', 'is', 'to'), ('Python', 'is', 'learn'), ('Python', 'is', '.'), ('Python', 'is', 'It'), ('Python', 'is', 'reduces'), ('Python', 'is', 'development'), ('Python', 'is', 'time.'), ('Python', 'easy', 'to'), ('Python', 'easy', 'learn'), ('Python', 'easy', '.'), ('Python', 'easy', 'It'), ('Python', 'easy', 'reduces'), ('Python', 'easy', 'development'), ('Python', 'easy', 'time.'), ('Python', 'to', 'learn'), ('Python', 'to', '.'), ('Python', 'to', 'It'), ('Python', 'to', 'reduces'), ('Python', 'to', 'development'), ('Python', 'to', 'time.'), ('Python', 'learn', '.'), ('Python', 'learn', 'It'), ('Python', 'learn', 'reduces'), ('Python', 'learn', 'development'), ('Python', 'learn', 'time.'), ('Python', '.', 'It'), ('Python', '.', 'reduces'), ('Python', '.', 'development'), ('Python', '.', 'time.'), ('Python', 'It', 'reduces'), ('Python', 'It', 'development'), ('Python', 'It', 'time.'), ('Python', 'reduces', 'development'), ('Python', 'reduces', 'time.'), ('Python', 'development', 'time.'), ('is', 'easy', 'to'), ('is', 'easy', 'learn'), ('is', 'easy', '.'), ('is', 'easy', 'It'), ('is', 'easy', 'reduces'), ('is', 'easy', 'development'), ('is', 'easy', 'time.'), ('is', 'to', 'learn'), ('is', 'to', '.'), ('is', 'to', 'It'), ('is', 'to', 'reduces'), ('is', 'to', 'development'), ('is', 'to', 'time.'), ('is', 'learn', '.'), ('is', 'learn', 'It'), ('is', 'learn', 'reduces'), ('is', 'learn', 'development'), ('is', 'learn', 'time.'), ('is', '.', 'It'), ('is', '.', 'reduces'), ('is', '.', 'development'), ('is', '.', 'time.'), ('is', 'It', 'reduces'), ('is', 'It', 'development'), ('is', 'It', 'time.'), ('is', 'reduces', 'development'), ('is', 'reduces', 'time.'), ('is', 'development', 'time.'), ('easy', 'to', 'learn'), ('easy', 'to', '.'), ('easy', 'to', 'It'), ('easy', 'to', 'reduces'), ('easy', 'to', 'development'), ('easy', 'to', 'time.'), ('easy', 'learn', '.'), ('easy', 'learn', 'It'), ('easy', 'learn', 'reduces'), ('easy', 'learn', 'development'), ('easy', 'learn', 'time.'), ('easy', '.', 'It'), ('easy', '.', 'reduces'), ('easy', '.', 'development'), ('easy', '.', 'time.'), ('easy', 'It', 'reduces'), ('easy', 'It', 'development'), ('easy', 'It', 'time.'), ('easy', 'reduces', 'development'), ('easy', 'reduces', 'time.'), ('easy', 'development', 'time.'), ('to', 'learn', '.'), ('to', 'learn', 'It'), ('to', 'learn', 'reduces'), ('to', 'learn', 'development'), ('to', 'learn', 'time.'), ('to', '.', 'It'), ('to', '.', 'reduces'), ('to', '.', 'development'), ('to', '.', 'time.'), ('to', 'It', 'reduces'), ('to', 'It', 'development'), ('to', 'It', 'time.'), ('to', 'reduces', 'development'), ('to', 'reduces', 'time.'), ('to', 'development', 'time.'), ('learn', '.', 'It'), ('learn', '.', 'reduces'), ('learn', '.', 'development'), ('learn', '.', 'time.'), ('learn', 'It', 'reduces'), ('learn', 'It', 'development'), ('learn', 'It', 'time.'), ('learn', 'reduces', 'development'), ('learn', 'reduces', 'time.'), ('learn', 'development', 'time.'), ('.', 'It', 'reduces'), ('.', 'It', 'development'), ('.', 'It', 'time.'), ('.', 'reduces', 'development'), ('.', 'reduces', 'time.'), ('.', 'development', 'time.'), ('It', 'reduces', 'development'), ('It', 'reduces', 'time.'), ('It', 'development', 'time.'), ('reduces', 'development', 'time.')]\n"
     ]
    }
   ],
   "source": [
    "text = \"Python is easy to learn . It reduces development time.\"\n",
    "\n",
    "# Snippet to get all combinations of user input number of elements from a list.\n",
    "\n",
    "import itertools\n",
    "\n",
    "def getCombinations(li, n):\n",
    "    return list(itertools.combinations(li, n))\n",
    "\n",
    "text = text.split()\n",
    "n = int(input(\"Enter the number of elements you want to get combinations of: \"))\n",
    "print(getCombinations(text, n))\n"
   ]
  },
  {
   "cell_type": "code",
   "execution_count": null,
   "metadata": {},
   "outputs": [],
   "source": [
    "# Snippet to get pairs of n consecutive elements from a list.\n",
    "\n",
    "text=\"Python is easy to learn. It decreases develpoment time.\"\n",
    "text=text.split()\n",
    "n=int(input(\"Enter length:\"))\n",
    "l=[text[i:i+n] for i in range(len(text)-n+1)]\n",
    "print(l)\n",
    "\n",
    "# Another way to get pairs of n consecutive elements from a list: \n",
    "# list(zip(*[text[i:] for i in range(n)]))"
   ]
  },
  {
   "cell_type": "code",
   "execution_count": 17,
   "metadata": {},
   "outputs": [
    {
     "name": "stdout",
     "output_type": "stream",
     "text": [
      "4393166304\n",
      "5\n",
      "4393166400\n",
      "4393166304\n"
     ]
    }
   ],
   "source": [
    "i=2\n",
    "j=5\n",
    "k=2\n",
    "print(id(i))\n",
    "print(id(j))\n",
    "print(id(k))"
   ]
  },
  {
   "cell_type": "code",
   "execution_count": 1,
   "metadata": {},
   "outputs": [
    {
     "name": "stdout",
     "output_type": "stream",
     "text": [
      "Hello World\n"
     ]
    }
   ],
   "source": [
    "print('Hello World')"
   ]
  }
 ],
 "metadata": {
  "kernelspec": {
   "display_name": "Python 3",
   "language": "python",
   "name": "python3"
  },
  "language_info": {
   "codemirror_mode": {
    "name": "ipython",
    "version": 3
   },
   "file_extension": ".py",
   "mimetype": "text/x-python",
   "name": "python",
   "nbconvert_exporter": "python",
   "pygments_lexer": "ipython3",
   "version": "3.11.1 (v3.11.1:a7a450f84a, Dec  6 2022, 15:24:06) [Clang 13.0.0 (clang-1300.0.29.30)]"
  },
  "orig_nbformat": 4,
  "vscode": {
   "interpreter": {
    "hash": "aee8b7b246df8f9039afb4144a1f6fd8d2ca17a180786b69acc140d282b71a49"
   }
  }
 },
 "nbformat": 4,
 "nbformat_minor": 2
}
